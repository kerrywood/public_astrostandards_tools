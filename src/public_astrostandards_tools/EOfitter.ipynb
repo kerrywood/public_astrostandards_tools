{
 "cells": [
  {
   "cell_type": "code",
   "execution_count": 1,
   "id": "ee066639-9772-4dcc-be3d-39c9a9702c07",
   "metadata": {},
   "outputs": [],
   "source": [
    "from datetime import datetime, timedelta\n",
    "\n",
    "import numpy as np\n",
    "import pandas as pd\n",
    "import scipy.optimize"
   ]
  },
  {
   "cell_type": "code",
   "execution_count": 2,
   "id": "b70b69e7-5b9a-47f5-b8fb-2e80e5c13cd7",
   "metadata": {},
   "outputs": [],
   "source": [
    "import astro_time\n",
    "import sgp4\n",
    "import sensor\n",
    "\n",
    "import tle_fitter"
   ]
  },
  {
   "cell_type": "code",
   "execution_count": 3,
   "id": "0c3b187b-0b58-44cc-ac91-f3d60ed2dd60",
   "metadata": {},
   "outputs": [
    {
     "data": {
      "text/plain": [
       "0"
      ]
     },
     "execution_count": 3,
     "metadata": {},
     "output_type": "execute_result"
    }
   ],
   "source": [
    "import public_astrostandards as PA\n",
    "PA.init_all()\n",
    "# PA.get_versions()"
   ]
  },
  {
   "cell_type": "code",
   "execution_count": 4,
   "id": "97bfcc5f-df09-429a-a01a-a63165b53b53",
   "metadata": {},
   "outputs": [],
   "source": [
    "# grab some raw UDL obs; convert the time; sort\n",
    "def prepObs( o_df ):\n",
    "    '''\n",
    "    given raw UDL obs, sort them and convert dates\n",
    "    then run it through astro_time.convert_times to get a standard frame\n",
    "    '''\n",
    "    o_df['obTime_dt'] = pd.to_datetime( o_df['obTime'] )\n",
    "    o_df = o_df.sort_values(by='obTime_dt')\n",
    "    t_df = astro_time.convert_times( obs['obTime_dt'], PA )\n",
    "    o_df = pd.concat( (t_df.reset_index(drop=True),o_df.reset_index(drop=True) ), axis=1 )\n",
    "    return o_df \n",
    "    \n",
    "obs    = pd.read_json('./19548.json.gz').sort_values(by='obTime').reset_index(drop=True)\n",
    "obs_df = prepObs( obs )    "
   ]
  },
  {
   "cell_type": "code",
   "execution_count": 5,
   "id": "889b994b-1b1a-4b06-b408-88bb916e925b",
   "metadata": {},
   "outputs": [],
   "source": [
    "def rotateTEMEObs( O , harness ):\n",
    "    '''\n",
    "    given an ob (O) with ra / declination fields (J2K), convert to TEME\n",
    "\n",
    "    assume that date has already been converted to ds50_utc with prepObs or astro_time.convert_time\n",
    "    '''\n",
    "    newRA  = (harness.ctypes.c_double)()\n",
    "    newDec = (harness.ctypes.c_double)()\n",
    "    PA.AstroFuncDll.RotRADec_EqnxToDate( 106,\n",
    "                                        2,\n",
    "                                        O['ds50_utc'],\n",
    "                                        O['ra'],\n",
    "                                        O['declination'],\n",
    "                                        newRA,\n",
    "                                        newDec )\n",
    "    return ( np.float64(newRA),np.float64(newDec) )\n",
    "\n",
    "# rotate a dataframe of obs into TEME and then also get a TEME look vector (for solving)\n",
    "def rotateTEMEdf( df, harness ):\n",
    "    ''''\n",
    "    given a set of UDL obs in a dataframe that have been annotated with astro_time.convert_time,\n",
    "    rotate all from J2K into TEME\n",
    "    '''\n",
    "    tv = df.apply( lambda X : rotateTEMEObs( X, harness ) , axis=1 )\n",
    "    df['teme_ra']  = [ X[0] for X in tv ]\n",
    "    df['teme_dec'] = [ X[1] for X in tv ]\n",
    "    x = np.cos( np.radians(df['teme_dec']) ) * np.cos( np.radians( df['teme_ra'] ) )\n",
    "    y = np.cos( np.radians(df['teme_dec']) ) * np.sin( np.radians( df['teme_ra'] ) )\n",
    "    z = np.sin( np.radians(df['teme_dec'] ) )\n",
    "    lv = np.hstack( ( x.values[:,np.newaxis], y.values[:,np.newaxis], z.values[:,np.newaxis] )  )\n",
    "    df['teme_lv'] = lv.tolist()\n",
    "    return df\n",
    "\n",
    "obs_df = rotateTEMEdf( obs_df, PA )"
   ]
  },
  {
   "cell_type": "code",
   "execution_count": 6,
   "id": "12362b76-a6d7-4a1b-8fee-e44ab879395a",
   "metadata": {},
   "outputs": [],
   "source": [
    "L1 = '1 19548U 88091B   25281.05493527 -.00000297  00000+0  00000+0 0  9993'\n",
    "L2 = '2 19548  12.7961 342.6596 0038175 340.8908  24.1736  1.00278194122860'"
   ]
  },
  {
   "cell_type": "code",
   "execution_count": 7,
   "id": "948ab23d-3435-4aae-ab9c-578203e24a97",
   "metadata": {},
   "outputs": [],
   "source": [
    "# -----------------------------------------------------------------------------------------------------\n",
    "def optFunction( X, EH, return_scalar=True ):\n",
    "    PA      = EH.PA\n",
    "    XS_TLE  = PA.Cstr('',512)\n",
    "    # take the function parameters (X) and overwrite the \"new_tle\" values based on FIELDS \n",
    "    for k,v in zip(EH.FIELDS,X) :  EH.new_tle[ k ] = v\n",
    "    # --------------------- clear state\n",
    "    PA.TleDll.TleRemoveAllSats()\n",
    "    PA.Sgp4PropDll.Sgp4RemoveAllSats()\n",
    "    # --------------------- init our test TLE from the modified data\n",
    "    tleid = PA.TleDll.TleAddSatFrArray( EH.new_tle.data, XS_TLE )\n",
    "    if tleid <= 0: return np.inf\n",
    "    if PA.Sgp4PropDll.Sgp4InitSat( tleid ) != 0: return np.inf\n",
    "    # --------------------- generate our test ephemeris\n",
    "    test_frame = sgp4.propTLE_byID_df( tleid, EH.date_f, EH.PA )\n",
    "    looks  =  sensor.compute_looks( EH.sensor_df, test_frame, EH.PA )\n",
    "    RA_residuals  = EH.obs_df['teme_ra'] - looks['XA_TOPO_RA']\n",
    "    DEC_residuals =  EH.obs_df['teme_dec'] - looks['XA_TOPO_DEC']\n",
    "\n",
    "    rms = np.sum( RA_residuals.values ** 2 + DEC_residuals.values ** 2 ) / (2 * len(RA_residuals) )\n",
    "    rv  = np.sqrt( rms )\n",
    "    \n",
    "    print('{:8.3f}                '.format(rv), end='\\r')\n",
    "    if return_scalar : return rv\n",
    "\n",
    "    return looks"
   ]
  },
  {
   "cell_type": "code",
   "execution_count": 8,
   "id": "bd46e02a-1b5c-491b-91e3-e03301a3ad5d",
   "metadata": {},
   "outputs": [
    {
     "name": "stdout",
     "output_type": "stream",
     "text": [
      "   7.817                \r"
     ]
    }
   ],
   "source": [
    "# -----------------------------------------------------------------------------------------------------\n",
    "class eo_fitter( tle_fitter.tle_fitter ):\n",
    "    def __init__( self, PA ):\n",
    "        super().__init__( PA )\n",
    "        self.line1 = None\n",
    "        self.line2 = None\n",
    "\n",
    "    def _set_new_epoch( self, epoch ):\n",
    "        ''' assume that epoch is set, and that line1, line2 are also set '''\n",
    "        self.PA.TleDll.TleRemoveAllSats()\n",
    "        tleid = sgp4.addTLE( self.line1, self.line2, self.PA )\n",
    "        assert sgp4.initTLE( tleid, self.PA )\n",
    "        rv    = sgp4.propTLEToDS50s( tleid, [ epoch ], self.PA )[0]\n",
    "        rv    = { 'teme_p' : rv[1:4], 'teme_v' : rv[4:7], 'ds50_utc' : self.epoch_ds50 }\n",
    "        return rv\n",
    "\n",
    "    def set_data( self, L1 : str, L2 : str, obs : list[ dict ] ):\n",
    "        ''' \n",
    "        take an initial TLE as a guess (L1,L2) \n",
    "        take a list of JSON formatted obs (directly from UDL)\n",
    "        solve for a new TLE\n",
    "        '''\n",
    "        self.line1      = L1\n",
    "        self.line2      = L2\n",
    "        self.obs        = obs\n",
    "\n",
    "        self.obs_df     = prepObs( obs )\n",
    "        self.obs_df     = rotateTEMEdf( self.obs_df, self.PA )\n",
    "        self._look_vecs = np.vstack( self.obs_df['teme_lv'] )\n",
    "        self.date_f     = self.obs_df[ ['ds50_utc','ds50_et','theta']].copy()\n",
    "\n",
    "        # init the TLE from the lines data\n",
    "        self.init_tle    = tle_fitter.TLE_str_to_XA_TLE( L1, L2, self.PA )\n",
    "        self.new_tle     = tle_fitter.TLE_str_to_XA_TLE( L1, L2, self.PA )\n",
    "        self.epoch_ds50  = self.obs_df.iloc[ -1 ]['ds50_utc']\n",
    "        epoch_sv         = self._set_new_epoch( self.epoch_ds50 )\n",
    "        self.set_from_sv( epoch_sv )\n",
    "        self.new_tle['XA_TLE_EPOCH'] = epoch_sv['ds50_utc']\n",
    "        # if this is a type-0, we need Kozai mean motion   \n",
    "        if self.new_tle['XA_TLE_EPHTYPE'] == 0:\n",
    "            self.new_tle['XA_TLE_MNMOTN'] = self.PA.AstroFuncDll.BrouwerToKozai( \n",
    "                                                self.new_tle['XA_TLE_ECCEN'], \n",
    "                                                self.new_tle['XA_TLE_INCLI'],\n",
    "                                                self.new_tle['XA_TLE_MNMOTN'] )\n",
    "\n",
    "        self.sensor_df        = self.obs_df[['ds50_utc','senlat','senlon','senalt','theta']]\n",
    "        self.sensor_df        = self.sensor_df.rename( columns = {'senlat' : 'lat','senlon' : 'lon', 'senalt' : 'height' } )\n",
    "        self.sensor_df        = sensor.llh_to_eci( self.sensor_df, self.PA )\n",
    "        return self\n",
    "\n",
    "                                       \n",
    "    def fit_tle( self ):\n",
    "        # -----------------------------  nelder mead -----------------------------\n",
    "        # if your seed is not near the final, nelder works great (at the expense of time)\n",
    "        ans   = scipy.optimize.minimize(optFunction, \n",
    "                                        self.get_init_fields(),\n",
    "                                        args    = (self,True),\n",
    "                                        method  = 'Nelder-Mead' ,\n",
    "                                        options = {'xatol' : 0.001, 'fatol' : 0.01, 'initial_simplex' : self.initial_simplex() } )\n",
    "\n",
    "        self.ans = ans\n",
    "        if ans.success:\n",
    "            A.reset_tle()\n",
    "            # now update with perturbed values (not sure if this is necessary... last step should be there)\n",
    "            for k,v in zip(A.FIELDS,ans.x) : A.new_tle[k] = v\n",
    "            return True\n",
    "        return False\n",
    "\n",
    "\n",
    "obs    = pd.read_json('./19548.json.gz').sort_values(by='obTime').reset_index(drop=True)    \n",
    "# !!!!!!!!!!! REMEMBER to set type before setting data\n",
    "A = eo_fitter( PA ).set_type4().set_data( L1, L2, obs ).clear_nonconservatives()\n",
    "converged = A.fit_tle()"
   ]
  },
  {
   "cell_type": "markdown",
   "id": "433ce6d7-7445-45ad-ae6c-2cbeb6963923",
   "metadata": {},
   "source": [
    "# Plot an answer"
   ]
  },
  {
   "cell_type": "code",
   "execution_count": 9,
   "id": "985b0772-3694-4f64-8ca6-e893cb941565",
   "metadata": {},
   "outputs": [
    {
     "name": "stdout",
     "output_type": "stream",
     "text": [
      "1 19548U 88091B   25281.05493527 -.00000297  00000+0  00000+0 0  9993\n",
      "2 19548  12.7961 342.6596 0038175 340.8908  24.1736  1.00278194122860\n",
      "1 19548           25279.99845760 +.00000000  00000 0  00000 0 0 0999\n",
      "2 19548  11.4709 342.8060 0059495 333.1481  10.0626  1.0027724412286\n"
     ]
    },
    {
     "data": {
      "image/png": "[encoded data removed]",
      "text/plain": [
       "<Figure size 1500x500 with 2 Axes>"
      ]
     },
     "metadata": {},
     "output_type": "display_data"
    }
   ],
   "source": [
    "import matplotlib.pyplot as plt\n",
    "\n",
    "if converged:\n",
    "    print(L1)\n",
    "    print(L2)\n",
    "    nL1,nL2 = A.getLines()\n",
    "    print( '\\n'.join( [nL1, nL2] ) )\n",
    "\n",
    "    # calculate the residuals\n",
    "    test_eph      = sgp4.propTLE_df( A.date_f, nL1, nL2, A.PA )\n",
    "    test_looks    = sensor.compute_looks( A.sensor_df, test_eph, A.PA )\n",
    "    ra_residuals  = test_looks['XA_TOPO_RA'] - A.obs_df['teme_ra']\n",
    "    dec_residuals = test_looks['XA_TOPO_DEC'] - A.obs_df['teme_dec']\n",
    "    plt.close('all')\n",
    "    f,ax = plt.subplots(2,1,figsize=(15,5))\n",
    "    ax[0].semilogy( A.obs_df['obTime_dt'], ra_residuals,'kx')\n",
    "    ax[1].semilogy( A.obs_df['obTime_dt'], dec_residuals,'kx')"
   ]
  },
  {
   "cell_type": "code",
   "execution_count": 10,
   "id": "8013fafd-d3dd-44b3-878b-75fad5a03c8c",
   "metadata": {},
   "outputs": [],
   "source": [
    "# Another test"
   ]
  },
  {
   "cell_type": "code",
   "execution_count": 11,
   "id": "148f2650-0a82-405a-b06f-69bc482ae516",
   "metadata": {},
   "outputs": [
    {
     "name": "stdout",
     "output_type": "stream",
     "text": [
      "   0.223                \r"
     ]
    }
   ],
   "source": [
    "tl1 = '1 90036U 25206B   25274.90623402 +.00000000  30000-1  10000-1 4 9999'\n",
    "tl2 = '2 90036  71.8879 325.2798 0161957   3.2262   6.0327  2.0816028900000'\n",
    "\n",
    "obs    = pd.read_csv('found.csv').sort_values(by='obTime').reset_index(drop=True)    \n",
    "# !!!!!!!!!!! REMEMBER to set type before setting data\n",
    "B = eo_fitter( PA ).set_type0().set_data( tl1, tl2, obs ).set_satno(99999).clear_nonconservatives()\n",
    "converged = B.fit_tle()"
   ]
  },
  {
   "cell_type": "code",
   "execution_count": 12,
   "id": "ee74f3be-dfaf-4671-a605-a568b0ddd02f",
   "metadata": {},
   "outputs": [
    {
     "data": {
      "text/plain": [
       "('1 99999           25280.13966221 +.00000000  00000 0  00000 0 0 9999',\n",
       " '2 99999  69.5121 323.0525 0000006   1.4330 352.1379  2.0815511300000')"
      ]
     },
     "execution_count": 12,
     "metadata": {},
     "output_type": "execute_result"
    }
   ],
   "source": [
    "B.getLines()"
   ]
  },
  {
   "cell_type": "code",
   "execution_count": 13,
   "id": "3554d564-421c-4b41-b2e3-7627d93a153c",
   "metadata": {},
   "outputs": [
    {
     "name": "stdout",
     "output_type": "stream",
     "text": [
      "1 90036U 25206B   25274.90623402 +.00000000  30000-1  10000-1 4 9999\n",
      "2 90036  71.8879 325.2798 0161957   3.2262   6.0327  2.0816028900000\n",
      "1 99999           25280.13966221 +.00000000  00000 0  00000 0 0 9999\n",
      "2 99999  69.5121 323.0525 0000006   1.4330 352.1379  2.0815511300000\n"
     ]
    },
    {
     "data": {
      "image/png": "[encoded data removed]",
      "text/plain": [
       "<Figure size 1500x500 with 2 Axes>"
      ]
     },
     "metadata": {},
     "output_type": "display_data"
    }
   ],
   "source": [
    "if converged:\n",
    "    print(tl1)\n",
    "    print(tl2)\n",
    "    nL1,nL2 = B.getLines()\n",
    "    print( '\\n'.join( [nL1, nL2] ) )\n",
    "\n",
    "    # calculate the residuals\n",
    "    test_eph      = sgp4.propTLE_df( B.date_f, nL1, nL2, A.PA )\n",
    "    test_looks    = sensor.compute_looks( B.sensor_df, test_eph, B.PA )\n",
    "    ra_residuals  = test_looks['XA_TOPO_RA'] - B.obs_df['teme_ra']\n",
    "    dec_residuals = test_looks['XA_TOPO_DEC'] - B.obs_df['teme_dec']\n",
    "    plt.close('all')\n",
    "    f,ax = plt.subplots(2,1,figsize=(15,5))\n",
    "    ax[0].semilogy( B.obs_df['obTime_dt'], ra_residuals,'kx')\n",
    "    ax[1].semilogy( B.obs_df['obTime_dt'], dec_residuals,'kx')"
   ]
  },
  {
   "cell_type": "code",
   "execution_count": 17,
   "id": "79ceafa0-5fd7-40c1-abd3-afa15f54c4a4",
   "metadata": {},
   "outputs": [
    {
     "data": {
      "text/plain": [
       "0    -1662.986459\n",
       "1    -1473.523072\n",
       "2    -1283.648167\n",
       "3    -1097.243888\n",
       "4     -907.884183\n",
       "5     -530.518832\n",
       "6     -344.177214\n",
       "7     -154.805645\n",
       "8       32.501652\n",
       "9      220.498482\n",
       "10     408.863066\n",
       "11     596.333809\n",
       "12     785.296171\n",
       "13     973.019640\n",
       "14    1162.126821\n",
       "15    1349.657953\n",
       "16    1537.557563\n",
       "17   -2033.371796\n",
       "18   -1507.559620\n",
       "19   -1244.921679\n",
       "20    -981.360561\n",
       "21    -717.131333\n",
       "22    -192.606457\n",
       "23      70.419516\n",
       "24     336.349727\n",
       "25     598.021786\n",
       "26     860.099905\n",
       "27    1123.960274\n",
       "28    1913.557604\n",
       "29    2176.822671\n",
       "dtype: float64"
      ]
     },
     "execution_count": 17,
     "metadata": {},
     "output_type": "execute_result"
    }
   ],
   "source": [
    "dec_residuals * 3600"
   ]
  }
 ],
 "metadata": {
  "kernelspec": {
   "display_name": "Python 3 (ipykernel)",
   "language": "python",
   "name": "python3"
  },
  "language_info": {
   "codemirror_mode": {
    "name": "ipython",
    "version": 3
   },
   "file_extension": ".py",
   "mimetype": "text/x-python",
   "name": "python",
   "nbconvert_exporter": "python",
   "pygments_lexer": "ipython3",
   "version": "3.12.7"
  }
 },
 "nbformat": 4,
 "nbformat_minor": 5
}
