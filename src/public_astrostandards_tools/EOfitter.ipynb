{
 "cells": [
  {
   "cell_type": "code",
   "execution_count": 1,
   "id": "ee066639-9772-4dcc-be3d-39c9a9702c07",
   "metadata": {},
   "outputs": [],
   "source": [
    "from datetime import datetime, timedelta\n",
    "\n",
    "import numpy as np\n",
    "import pandas as pd"
   ]
  },
  {
   "cell_type": "code",
   "execution_count": 2,
   "id": "b70b69e7-5b9a-47f5-b8fb-2e80e5c13cd7",
   "metadata": {},
   "outputs": [],
   "source": [
    "import astro_time\n",
    "import sgp4\n",
    "import sensor\n",
    "\n",
    "import tle_fitter"
   ]
  },
  {
   "cell_type": "code",
   "execution_count": 3,
   "id": "0c3b187b-0b58-44cc-ac91-f3d60ed2dd60",
   "metadata": {},
   "outputs": [],
   "source": [
    "import public_astrostandards as PA\n",
    "# PA.get_versions()"
   ]
  },
  {
   "cell_type": "code",
   "execution_count": 15,
   "id": "97bfcc5f-df09-429a-a01a-a63165b53b53",
   "metadata": {},
   "outputs": [],
   "source": [
    "# these are raw UDL obs\n",
    "def prepObs( o_df ):\n",
    "    o_df['obTime_dt'] = pd.to_datetime( o_df['obTime'] )\n",
    "    o_df.sort_values(by='obTime_dt', inplace=True )\n",
    "    t_df = astro_time.convert_times( obs['obTime_dt'], PA )\n",
    "    o_df = pd.concat( (t_df.reset_index(drop=True),obs.reset_index(drop=True) ), axis=1 )\n",
    "    return o_df \n",
    "obs    = pd.read_json('./19548.json.gz').sort_values(by='obTime').reset_index(drop=True)\n",
    "obs_df = prepObs( obs )    "
   ]
  },
  {
   "cell_type": "code",
   "execution_count": 7,
   "id": "889b994b-1b1a-4b06-b408-88bb916e925b",
   "metadata": {},
   "outputs": [],
   "source": [
    "def rotateTEMEObs( O , harness ):\n",
    "    newRA  = (harness.ctypes.c_double)()\n",
    "    newDec = (harness.ctypes.c_double)()\n",
    "    PA.AstroFuncDll.RotRADec_EqnxToDate( 106,\n",
    "                                        2,\n",
    "                                        O['ds50_utc'],\n",
    "                                        O['ra'],\n",
    "                                        O['declination'],\n",
    "                                        newRA,\n",
    "                                        newDec )\n",
    "    return ( np.float64(newRA),np.float64(newDec) )\n",
    "\n",
    "def rotateTEMEdf( df, harness ):\n",
    "    tv = df.apply( lambda X : rotateTEMEObs( X, harness ) , axis=1 )\n",
    "    df['teme_ra'] = [ X[0] for X in tv ]\n",
    "    df['teme_dec'] = [ X[1] for X in tv ]\n",
    "    x = np.cos( np.radians(df['teme_dec']) ) * np.cos( np.radians( df['teme_ra'] ) )\n",
    "    y = np.cos( np.radians(df['teme_dec']) ) * np.sin( np.radians( df['teme_ra'] ) )\n",
    "    z = np.sin( np.radians(df['teme_dec'] ) )\n",
    "    lv = np.hstack( ( x.values[:,np.newaxis], y.values[:,np.newaxis], z.values[:,np.newaxis] )  )\n",
    "    df['teme_lv'] = lv.tolist()\n",
    "    return df\n",
    "\n",
    "obs_df = rotateTEMEdf( obs_df, PA )[['ra','teme_ra']]"
   ]
  },
  {
   "cell_type": "code",
   "execution_count": 9,
   "id": "12362b76-a6d7-4a1b-8fee-e44ab879395a",
   "metadata": {},
   "outputs": [],
   "source": [
    "L1 = '1 19548U 88091B   25281.05493527 -.00000297  00000+0  00000+0 0  9993'\n",
    "L2 = '2 19548  12.7961 342.6596 0038175 340.8908  24.1736  1.00278194122860'"
   ]
  },
  {
   "cell_type": "raw",
   "id": "ddab9eac-48ba-40e6-b668-6c0bd9fff234",
   "metadata": {},
   "source": [
    "# setup the sensor frame\n",
    "tle_dates_df = date_df.copy()\n",
    "eph = sgp4.propTLE_df( tle_dates_df, \n",
    "                L1,\n",
    "                L2,\n",
    "                PA)\n",
    "\n",
    "# now compute the looks\n",
    "test_looks = sensor.compute_looks( sensor_df, tle_dates_df, PA )"
   ]
  },
  {
   "cell_type": "code",
   "execution_count": null,
   "id": "948ab23d-3435-4aae-ab9c-578203e24a97",
   "metadata": {},
   "outputs": [],
   "source": [
    "# -----------------------------------------------------------------------------------------------------\n",
    "def optFunction( X, EH, return_scalar=True ):\n",
    "    PA      = EH.PA\n",
    "    XS_TLE  = PA.Cstr('',512)\n",
    "    # take the function parameters (X) and overwrite the \"new_tle\" values based on FIELDS \n",
    "    for k,v in zip(EH.FIELDS,X) :  EH.new_tle[ k ] = v\n",
    "    # --------------------- clear state\n",
    "    PA.TleDll.TleRemoveAllSats()\n",
    "    PA.Sgp4PropDll.Sgp4RemoveAllSats()\n",
    "    # --------------------- init our test TLE from the modified data\n",
    "    tleid = PA.TleDll.TleAddSatFrArray( EH.new_tle.data, XS_TLE )\n",
    "    if tleid <= 0: return np.inf\n",
    "    if PA.Sgp4PropDll.Sgp4InitSat( tleid ) != 0: return np.inf\n",
    "    # --------------------- generate our test ephemeris\n",
    "    test_eph = sgp4.propTLEToDS50s( tleid, EH.truth_date, PA )\n",
    "    # use numpy to return the distance between our hypothesis and truth\n",
    "    resids = test_eph[:,1:4] - EH.truth_eph\n",
    "    rms    = np.sqrt( np.sum( np.linalg.norm( resids, axis=1 ) ) / resids.shape[0] )\n",
    "    print( 'RMS : {:08.3f}                    '.format(rms) , end='\\r')\n",
    "    if return_scalar:\n",
    "        return rms\n",
    "        # return np.sum( np.linalg.norm( resids[:,:3], axis=1 ) ) \n",
    "    else:\n",
    "        np.linalg.norm( resids[:,:3], axis=1 ) "
   ]
  },
  {
   "cell_type": "code",
   "execution_count": 23,
   "id": "bd46e02a-1b5c-491b-91e3-e03301a3ad5d",
   "metadata": {},
   "outputs": [],
   "source": [
    "# -----------------------------------------------------------------------------------------------------\n",
    "class eo_fitter( tle_fitter.tle_fitter ):\n",
    "    def __init__( self, PA ):\n",
    "        super().__init__( PA )\n",
    "        self.line1 = None\n",
    "        self.line2 = None\n",
    "\n",
    "    def _init_fields( self ):\n",
    "        # epoch at the last ob (assume sorted)\n",
    "        self.epoch_idx = -1\n",
    "        epoch_sv        = self.obs_df.iloc[ self.epoch_idx ]\n",
    "        osc_data        = tle_fitter.sv_to_osc( epoch_sv , self.PA )\n",
    "        mean_data       = tle_fitter.osc_to_mean( osc_data, self.PA )\n",
    "        # update our \"fit\" TLE with the new osculating data\n",
    "        self.new_tle    = tle_fitter.insert_kep_to_TLE( self.new_tle, mean_data, self.PA )\n",
    "        # if this is a type-0, we need Kozai mean motion   \n",
    "        if self.new_tle['XA_TLE_EPHTYPE'] == 0:\n",
    "            self.new_tle['XA_TLE_MNMOTN'] = self.PA.AstroFuncDll.BrouwerToKozai( \n",
    "                    self.new_tle['XA_TLE_ECCEN'], \n",
    "                    self.new_tle['XA_TLE_INCLI'],\n",
    "                    self.new_tle['XA_TLE_MNMOTN'] )\n",
    "        self.new_tle['XA_TLE_EPOCH'] = epoch_sv['ds50_utc']\n",
    "        return self\n",
    "\n",
    "    def set_data( self, L1 : str, L2 : str, obs : list[ dict ] ):\n",
    "        ''' \n",
    "        take an initial TLE as a guess\n",
    "\n",
    "        take a list of JSON formatted obs (directly from UDL)\n",
    "        '''\n",
    "        self.obs_df     = prepObs( obs )\n",
    "        self.obs_df     = rotateTEMEdf( self.obs_df, self.PA )\n",
    "        self._look_vecs = np.vstack( self.obs_df['teme_lv'] )\n",
    "        self._ds50_utc  = self.obs_df['ds50_utc']\n",
    "                                            \n",
    "\n",
    "    \n",
    "A = eo_fitter( PA ).set_data( L1, L2, obs_df )"
   ]
  },
  {
   "cell_type": "code",
   "execution_count": null,
   "id": "8eb6ab81-4cd2-46a2-a243-ebbf831d61b1",
   "metadata": {},
   "outputs": [],
   "source": []
  }
 ],
 "metadata": {
  "kernelspec": {
   "display_name": "Python 3 (ipykernel)",
   "language": "python",
   "name": "python3"
  },
  "language_info": {
   "codemirror_mode": {
    "name": "ipython",
    "version": 3
   },
   "file_extension": ".py",
   "mimetype": "text/x-python",
   "name": "python",
   "nbconvert_exporter": "python",
   "pygments_lexer": "ipython3",
   "version": "3.11.1"
  }
 },
 "nbformat": 4,
 "nbformat_minor": 5
}
