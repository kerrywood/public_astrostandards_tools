{
 "cells": [
  {
   "cell_type": "code",
   "execution_count": 1,
   "id": "ee066639-9772-4dcc-be3d-39c9a9702c07",
   "metadata": {},
   "outputs": [],
   "source": [
    "from datetime import datetime, timedelta\n",
    "\n",
    "import numpy as np\n",
    "import pandas as pd\n",
    "import scipy.optimize"
   ]
  },
  {
   "cell_type": "code",
   "execution_count": 2,
   "id": "b70b69e7-5b9a-47f5-b8fb-2e80e5c13cd7",
   "metadata": {},
   "outputs": [],
   "source": [
    "import astro_time\n",
    "import sgp4\n",
    "import sensor\n",
    "\n",
    "import tle_fitter"
   ]
  },
  {
   "cell_type": "code",
   "execution_count": 3,
   "id": "0c3b187b-0b58-44cc-ac91-f3d60ed2dd60",
   "metadata": {},
   "outputs": [
    {
     "data": {
      "text/plain": [
       "0"
      ]
     },
     "execution_count": 3,
     "metadata": {},
     "output_type": "execute_result"
    }
   ],
   "source": [
    "import public_astrostandards as PA\n",
    "PA.init_all()\n",
    "# PA.get_versions()"
   ]
  },
  {
   "cell_type": "code",
   "execution_count": 4,
   "id": "97bfcc5f-df09-429a-a01a-a63165b53b53",
   "metadata": {},
   "outputs": [],
   "source": [
    "# grab some raw UDL obs; convert the time; sort\n",
    "def prepObs( o_df ):\n",
    "    o_df['obTime_dt'] = pd.to_datetime( o_df['obTime'] )\n",
    "    o_df = o_df.sort_values(by='obTime_dt')\n",
    "    t_df = astro_time.convert_times( obs['obTime_dt'], PA )\n",
    "    o_df = pd.concat( (t_df.reset_index(drop=True),o_df.reset_index(drop=True) ), axis=1 )\n",
    "    return o_df \n",
    "    \n",
    "obs    = pd.read_json('./19548.json.gz').sort_values(by='obTime').reset_index(drop=True)\n",
    "obs_df = prepObs( obs )    "
   ]
  },
  {
   "cell_type": "code",
   "execution_count": 5,
   "id": "889b994b-1b1a-4b06-b408-88bb916e925b",
   "metadata": {},
   "outputs": [],
   "source": [
    "def rotateTEMEObs( O , harness ):\n",
    "    '''\n",
    "    given an ob (O) with ra / declination fields (J2K), convert to TEME\n",
    "    '''\n",
    "    newRA  = (harness.ctypes.c_double)()\n",
    "    newDec = (harness.ctypes.c_double)()\n",
    "    PA.AstroFuncDll.RotRADec_EqnxToDate( 106,\n",
    "                                        2,\n",
    "                                        O['ds50_utc'],\n",
    "                                        O['ra'],\n",
    "                                        O['declination'],\n",
    "                                        newRA,\n",
    "                                        newDec )\n",
    "    return ( np.float64(newRA),np.float64(newDec) )\n",
    "\n",
    "# rotate a dataframe of obs into TEME and then also get a TEME look vector (for solving)\n",
    "def rotateTEMEdf( df, harness ):\n",
    "    tv = df.apply( lambda X : rotateTEMEObs( X, harness ) , axis=1 )\n",
    "    df['teme_ra']  = [ X[0] for X in tv ]\n",
    "    df['teme_dec'] = [ X[1] for X in tv ]\n",
    "    x = np.cos( np.radians(df['teme_dec']) ) * np.cos( np.radians( df['teme_ra'] ) )\n",
    "    y = np.cos( np.radians(df['teme_dec']) ) * np.sin( np.radians( df['teme_ra'] ) )\n",
    "    z = np.sin( np.radians(df['teme_dec'] ) )\n",
    "    lv = np.hstack( ( x.values[:,np.newaxis], y.values[:,np.newaxis], z.values[:,np.newaxis] )  )\n",
    "    df['teme_lv'] = lv.tolist()\n",
    "    return df\n",
    "\n",
    "obs_df = rotateTEMEdf( obs_df, PA )"
   ]
  },
  {
   "cell_type": "code",
   "execution_count": 6,
   "id": "12362b76-a6d7-4a1b-8fee-e44ab879395a",
   "metadata": {},
   "outputs": [],
   "source": [
    "L1 = '1 19548U 88091B   25281.05493527 -.00000297  00000+0  00000+0 0  9993'\n",
    "L2 = '2 19548  12.7961 342.6596 0038175 340.8908  24.1736  1.00278194122860'"
   ]
  },
  {
   "cell_type": "code",
   "execution_count": 7,
   "id": "948ab23d-3435-4aae-ab9c-578203e24a97",
   "metadata": {},
   "outputs": [],
   "source": [
    "# -----------------------------------------------------------------------------------------------------\n",
    "def optFunction( X, EH, return_scalar=True ):\n",
    "    PA      = EH.PA\n",
    "    XS_TLE  = PA.Cstr('',512)\n",
    "    # take the function parameters (X) and overwrite the \"new_tle\" values based on FIELDS \n",
    "    for k,v in zip(EH.FIELDS,X) :  EH.new_tle[ k ] = v\n",
    "    # --------------------- clear state\n",
    "    PA.TleDll.TleRemoveAllSats()\n",
    "    PA.Sgp4PropDll.Sgp4RemoveAllSats()\n",
    "    # --------------------- init our test TLE from the modified data\n",
    "    tleid = PA.TleDll.TleAddSatFrArray( EH.new_tle.data, XS_TLE )\n",
    "    if tleid <= 0: return np.inf\n",
    "    if PA.Sgp4PropDll.Sgp4InitSat( tleid ) != 0: return np.inf\n",
    "    # --------------------- generate our test ephemeris\n",
    "    test_frame = sgp4.propTLE_byID_df( tleid, EH.date_f, EH.PA )\n",
    "    looks  =  sensor.compute_looks( EH.sensor_df, test_frame, EH.PA )\n",
    "    RA_residuals  = EH.obs_df['teme_ra'] - looks['XA_TOPO_RA']\n",
    "    DEC_residuals =  EH.obs_df['teme_dec'] - looks['XA_TOPO_DEC']\n",
    "    rv =  np.sum( np.abs(RA_residuals) ) + np.sum( np.abs( DEC_residuals ) )\n",
    "    print('{:8.3f}                '.format(rv), end='\\r')\n",
    "    return rv"
   ]
  },
  {
   "cell_type": "code",
   "execution_count": 24,
   "id": "bd46e02a-1b5c-491b-91e3-e03301a3ad5d",
   "metadata": {},
   "outputs": [
    {
     "name": "stdout",
     "output_type": "stream",
     "text": [
      "   3.624                  "
     ]
    }
   ],
   "source": [
    "# -----------------------------------------------------------------------------------------------------\n",
    "class eo_fitter( tle_fitter.tle_fitter ):\n",
    "    def __init__( self, PA ):\n",
    "        super().__init__( PA )\n",
    "        self.line1 = None\n",
    "        self.line2 = None\n",
    "\n",
    "    def _prop_to_new_epoch( self, epoch ):\n",
    "        ''' assume that epoch is set, and that line1, line2 are also set '''\n",
    "        self.PA.TleDll.TleRemoveAllSats()\n",
    "        tleid = sgp4.addTLE( self.line1, self.line2, self.PA )\n",
    "        assert sgp4.initTLE( tleid, self.PA )\n",
    "        rv    = sgp4.propTLEToDS50s( tleid, [ epoch ], self.PA )[0]\n",
    "        rv    = { 'teme_p' : rv[1:4], 'teme_v' : rv[4:7], 'ds50_utc' : self.epoch_ds50 }\n",
    "        return rv\n",
    "\n",
    "    def set_data( self, L1 : str, L2 : str, obs : list[ dict ] ):\n",
    "        ''' \n",
    "        take an initial TLE as a guess (L1,L2) \n",
    "        take a list of JSON formatted obs (directly from UDL)\n",
    "        solve for a new TLE\n",
    "        '''\n",
    "        self.line1      = L1\n",
    "        self.line2      = L2\n",
    "        self.obs        = obs\n",
    "\n",
    "        self.obs_df     = prepObs( obs )\n",
    "        self.obs_df     = rotateTEMEdf( self.obs_df, self.PA )\n",
    "        self._look_vecs = np.vstack( self.obs_df['teme_lv'] )\n",
    "        self.date_f     = self.obs_df[ ['ds50_utc','ds50_et','theta']].copy()\n",
    "\n",
    "        # init the TLE from the lines data\n",
    "        self.init_tle    = tle_fitter.TLE_str_to_XA_TLE( L1, L2, self.PA )\n",
    "        self.new_tle     = tle_fitter.TLE_str_to_XA_TLE( L1, L2, self.PA )\n",
    "        # self.epoch_ds50  = self.obs_df.iloc[ -1 ]['ds50_utc']\n",
    "        # epoch_sv         = self._prop_to_new_epoch( self.epoch_ds50 )\n",
    "        # self.set_from_sv( epoch_sv )\n",
    "        # self.new_tle['XA_TLE_EPOCH'] = epoch_sv['ds50_utc']\n",
    "        # # if this is a type-0, we need Kozai mean motion   \n",
    "        # if self.new_tle['XA_TLE_EPHTYPE'] == 0:\n",
    "        #     self.new_tle['XA_TLE_MNMOTN'] = self.PA.AstroFuncDll.BrouwerToKozai( \n",
    "        #                                         self.new_tle['XA_TLE_ECCEN'], \n",
    "        #                                         self.new_tle['XA_TLE_INCLI'],\n",
    "        #                                         self.new_tle['XA_TLE_MNMOTN'] )\n",
    "\n",
    "        self.sensor_df        = self.obs_df[['ds50_utc','senlat','senlon','senalt','theta']]\n",
    "        self.sensor_df        = self.sensor_df.rename( columns = {'senlat' : 'lat','senlon' : 'lon', 'senalt' : 'height' } )\n",
    "        self.sensor_df        = sensor.llh_to_eci( self.sensor_df, self.PA )\n",
    "        return self\n",
    "                                       \n",
    "\n",
    "obs    = pd.read_json('./19548.json.gz').sort_values(by='obTime').reset_index(drop=True)    \n",
    "# A = eo_fitter( PA ).set_data( L1, L2, obs ).clear_nonconservatives().set_type4()\n",
    "A = eo_fitter( PA ).set_type4().set_data( L1, L2, obs )\n",
    "\n",
    "optFunction( A.get_init_fields(), A )\n",
    "\n",
    "\n",
    "# -----------------------------  nelder mead -----------------------------\n",
    "# if your seed is not near the final, nelder works great (at the expense of time)\n",
    "ans   = scipy.optimize.minimize(optFunction, \n",
    "                                A.get_init_fields(),\n",
    "                                args    = (A,True),\n",
    "                                method  = 'Nelder-Mead' ,\n",
    "                                #options = {'xatol' : 0.01, 'fatol' : 0.9 } )\n",
    "                                options = {'xatol' : 0.01, 'fatol' : 0.1, 'initial_simplex' : A.initial_simplex() } )\n",
    "                               #options = {'initial_simplex' : smplx } )\n",
    "if ans.success:\n",
    "    A.reset_tle()\n",
    "    # now update with perturbed values (not sure if this is necessary... last step should be there)\n",
    "    for k,v in zip(A.FIELDS,ans.x) : A.new_tle[k] = v\n",
    "    A.ans = ans"
   ]
  },
  {
   "cell_type": "code",
   "execution_count": 19,
   "id": "729acd7d-8b28-4394-8459-a9ad7997649a",
   "metadata": {},
   "outputs": [],
   "source": [
    "nL1,nL2 = A.getLines()\n",
    "test_eph = sgp4.propTLE_df( A.date_f, nL1, nL2, A.PA )\n",
    "\n",
    "test_looks = sensor.compute_looks( A.sensor_df, test_eph, A.PA )"
   ]
  },
  {
   "cell_type": "code",
   "execution_count": 21,
   "id": "985b0772-3694-4f64-8ca6-e893cb941565",
   "metadata": {},
   "outputs": [
    {
     "data": {
      "text/plain": [
       "0        8.644022\n",
       "1        8.114882\n",
       "2       11.347952\n",
       "3        8.670508\n",
       "4        9.401458\n",
       "          ...    \n",
       "1479    20.398925\n",
       "1480    19.578079\n",
       "1481    20.075474\n",
       "1482    19.530194\n",
       "1483    19.706718\n",
       "Length: 1484, dtype: float64"
      ]
     },
     "execution_count": 21,
     "metadata": {},
     "output_type": "execute_result"
    }
   ],
   "source": [
    "3600 * (test_looks['XA_TOPO_RA'] - A.obs_df['teme_ra'])"
   ]
  },
  {
   "cell_type": "code",
   "execution_count": 23,
   "id": "0a7a3572-bcd3-4c46-8dd4-56b242f5c4c9",
   "metadata": {},
   "outputs": [
    {
     "data": {
      "text/plain": [
       "0       2.251920\n",
       "1       1.522662\n",
       "2       4.106453\n",
       "3       2.075810\n",
       "4       1.619867\n",
       "          ...   \n",
       "1479   -3.905444\n",
       "1480   -3.811167\n",
       "1481   -4.409977\n",
       "1482   -3.179919\n",
       "1483   -4.550127\n",
       "Length: 1484, dtype: float64"
      ]
     },
     "execution_count": 23,
     "metadata": {},
     "output_type": "execute_result"
    }
   ],
   "source": [
    "3600 * (test_looks['XA_TOPO_DEC'] - A.obs_df['teme_dec'])"
   ]
  }
 ],
 "metadata": {
  "kernelspec": {
   "display_name": "Python 3 (ipykernel)",
   "language": "python",
   "name": "python3"
  },
  "language_info": {
   "codemirror_mode": {
    "name": "ipython",
    "version": 3
   },
   "file_extension": ".py",
   "mimetype": "text/x-python",
   "name": "python",
   "nbconvert_exporter": "python",
   "pygments_lexer": "ipython3",
   "version": "3.11.1"
  }
 },
 "nbformat": 4,
 "nbformat_minor": 5
}
