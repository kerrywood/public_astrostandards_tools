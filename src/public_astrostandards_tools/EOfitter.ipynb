{
 "cells": [
  {
   "cell_type": "code",
   "execution_count": 1,
   "id": "ee066639-9772-4dcc-be3d-39c9a9702c07",
   "metadata": {},
   "outputs": [],
   "source": [
    "from datetime import datetime, timedelta\n",
    "\n",
    "import numpy as np\n",
    "import pandas as pd"
   ]
  },
  {
   "cell_type": "code",
   "execution_count": 2,
   "id": "b70b69e7-5b9a-47f5-b8fb-2e80e5c13cd7",
   "metadata": {},
   "outputs": [],
   "source": [
    "import astro_time\n",
    "import sgp4\n",
    "import sensor"
   ]
  },
  {
   "cell_type": "code",
   "execution_count": 5,
   "id": "0c3b187b-0b58-44cc-ac91-f3d60ed2dd60",
   "metadata": {},
   "outputs": [],
   "source": [
    "import public_astrostandards as PA\n",
    "# PA.get_versions()"
   ]
  },
  {
   "cell_type": "code",
   "execution_count": 12,
   "id": "97bfcc5f-df09-429a-a01a-a63165b53b53",
   "metadata": {},
   "outputs": [],
   "source": [
    "obs = pd.read_json('/home/woodkn1/Downloads/19548.json.gz').sort_values(by='obTime').reset_index(drop=True)\n",
    "obs['obTime_dt'] = pd.to_datetime( obs['obTime'] )"
   ]
  },
  {
   "cell_type": "code",
   "execution_count": 43,
   "id": "1edbc742-9626-4edf-b42b-6740decb1075",
   "metadata": {},
   "outputs": [],
   "source": [
    "# setup our canonical date format\n",
    "date_df = astro_time.convert_times( obs['obTime_dt'], PA )\n",
    "# append that to the obs frame\n",
    "obs_df = pd.concat( (obs.reset_index(drop=True),date_df.reset_index(drop=True)), axis=1 )\n",
    "\n",
    "# get the sensor position in TEME ECI\n",
    "def sensorECI( O, harness ):\n",
    "    lla = (harness.ctypes.c_double * 3)( O['senlat'], O['senlon'], O['senalt'] )\n",
    "    eci = (harness.ctypes.c_double * 3)( )\n",
    "    harness.AstroFuncDll.LLHToXYZTime( O['ds50_utc'], lla, eci )\n",
    "    return list( eci )\n",
    "\n",
    "sensor_df = date_df.copy()\n",
    "sensor_df['teme_p'] = obs_df.apply( lambda X: sensorECI(X,PA), axis=1 )\n",
    "sensor_df['lon'] = obs['senlon']\n",
    "sensor_df['lat'] = obs['senlat']"
   ]
  },
  {
   "cell_type": "code",
   "execution_count": 45,
   "id": "cf18d229-241b-49ad-99fb-a76c3ea3edfe",
   "metadata": {},
   "outputs": [
    {
     "data": {
      "text/html": [
       "<div>\n",
       "<style scoped>\n",
       "    .dataframe tbody tr th:only-of-type {\n",
       "        vertical-align: middle;\n",
       "    }\n",
       "\n",
       "    .dataframe tbody tr th {\n",
       "        vertical-align: top;\n",
       "    }\n",
       "\n",
       "    .dataframe thead th {\n",
       "        text-align: right;\n",
       "    }\n",
       "</style>\n",
       "<table border=\"1\" class=\"dataframe\">\n",
       "  <thead>\n",
       "    <tr style=\"text-align: right;\">\n",
       "      <th></th>\n",
       "      <th>ra</th>\n",
       "      <th>teme_ra</th>\n",
       "    </tr>\n",
       "  </thead>\n",
       "  <tbody>\n",
       "    <tr>\n",
       "      <th>0</th>\n",
       "      <td>324.147131</td>\n",
       "      <td>324.477809</td>\n",
       "    </tr>\n",
       "    <tr>\n",
       "      <th>1</th>\n",
       "      <td>324.196245</td>\n",
       "      <td>324.526905</td>\n",
       "    </tr>\n",
       "    <tr>\n",
       "      <th>2</th>\n",
       "      <td>324.219747</td>\n",
       "      <td>324.550398</td>\n",
       "    </tr>\n",
       "    <tr>\n",
       "      <th>3</th>\n",
       "      <td>324.244990</td>\n",
       "      <td>324.575631</td>\n",
       "    </tr>\n",
       "    <tr>\n",
       "      <th>4</th>\n",
       "      <td>324.250537</td>\n",
       "      <td>324.581101</td>\n",
       "    </tr>\n",
       "    <tr>\n",
       "      <th>...</th>\n",
       "      <td>...</td>\n",
       "      <td>...</td>\n",
       "    </tr>\n",
       "    <tr>\n",
       "      <th>1060</th>\n",
       "      <td>320.564392</td>\n",
       "      <td>320.908839</td>\n",
       "    </tr>\n",
       "    <tr>\n",
       "      <th>1061</th>\n",
       "      <td>320.588870</td>\n",
       "      <td>320.933300</td>\n",
       "    </tr>\n",
       "    <tr>\n",
       "      <th>1062</th>\n",
       "      <td>320.613251</td>\n",
       "      <td>320.957665</td>\n",
       "    </tr>\n",
       "    <tr>\n",
       "      <th>1063</th>\n",
       "      <td>320.662031</td>\n",
       "      <td>321.006412</td>\n",
       "    </tr>\n",
       "    <tr>\n",
       "      <th>1064</th>\n",
       "      <td>320.686756</td>\n",
       "      <td>321.031120</td>\n",
       "    </tr>\n",
       "  </tbody>\n",
       "</table>\n",
       "<p>1065 rows × 2 columns</p>\n",
       "</div>"
      ],
      "text/plain": [
       "              ra     teme_ra\n",
       "0     324.147131  324.477809\n",
       "1     324.196245  324.526905\n",
       "2     324.219747  324.550398\n",
       "3     324.244990  324.575631\n",
       "4     324.250537  324.581101\n",
       "...          ...         ...\n",
       "1060  320.564392  320.908839\n",
       "1061  320.588870  320.933300\n",
       "1062  320.613251  320.957665\n",
       "1063  320.662031  321.006412\n",
       "1064  320.686756  321.031120\n",
       "\n",
       "[1065 rows x 2 columns]"
      ]
     },
     "execution_count": 45,
     "metadata": {},
     "output_type": "execute_result"
    }
   ],
   "source": [
    "def rotateTEME( O , harness ):\n",
    "    newRA  = (harness.ctypes.c_double)()\n",
    "    newDec = (harness.ctypes.c_double)()\n",
    "    PA.AstroFuncDll.RotRADec_EqnxToDate( 106,\n",
    "                                        2,\n",
    "                                        O['ds50_utc'],\n",
    "                                        O['ra'],\n",
    "                                        O['declination'],\n",
    "                                        newRA,\n",
    "                                        newDec )\n",
    "    return ( np.float64(newRA),np.float64(newDec) )\n",
    "                                    \n",
    "                                        \n",
    "tmp = obs_df.apply( lambda X : rotateTEME( X, PA ) , axis=1)\n",
    "obs_df['teme_ra']  = [ X[0] for X in tmp ]\n",
    "obs_df['teme_dec'] = [ X[1] for X in tmp ]\n",
    "obs_df[['ra','teme_ra']]"
   ]
  },
  {
   "cell_type": "code",
   "execution_count": null,
   "id": "b196b50a-0f9b-4fac-8c71-0d8bc9094a61",
   "metadata": {},
   "outputs": [],
   "source": [
    "# setup the sensor frame"
   ]
  },
  {
   "cell_type": "code",
   "execution_count": 47,
   "id": "0b3c24ff-cb7a-42c8-b1b2-420fb8f85945",
   "metadata": {},
   "outputs": [],
   "source": [
    "tle_dates_df = date_df.copy()\n",
    "eph = sgp4.propTLE_df( tle_dates_df, \n",
    "                '1 19548U 88091B   25281.05493527 -.00000297  00000+0  00000+0 0  9993',\n",
    "                '2 19548  12.7961 342.6596 0038175 340.8908  24.1736  1.00278194122860',\n",
    "                PA)\n",
    "test_looks = sensor.compute_looks( sensor_df, tle_dates_df, PA )"
   ]
  },
  {
   "cell_type": "code",
   "execution_count": 50,
   "id": "c864c2b6-25c2-4a93-8ff5-81aa3ee77d1c",
   "metadata": {},
   "outputs": [
    {
     "data": {
      "text/plain": [
       "0       0.023260\n",
       "1       0.023110\n",
       "2       0.024007\n",
       "3       0.023262\n",
       "4       0.023454\n",
       "          ...   \n",
       "1060    0.001932\n",
       "1061    0.001982\n",
       "1062    0.002044\n",
       "1063    0.002102\n",
       "1064    0.001912\n",
       "Length: 1065, dtype: float64"
      ]
     },
     "execution_count": 50,
     "metadata": {},
     "output_type": "execute_result"
    }
   ],
   "source": [
    "test_looks['XA_TOPO_RA'] - obs_df['teme_ra']"
   ]
  }
 ],
 "metadata": {
  "kernelspec": {
   "display_name": "Python 3 (ipykernel)",
   "language": "python",
   "name": "python3"
  },
  "language_info": {
   "codemirror_mode": {
    "name": "ipython",
    "version": 3
   },
   "file_extension": ".py",
   "mimetype": "text/x-python",
   "name": "python",
   "nbconvert_exporter": "python",
   "pygments_lexer": "ipython3",
   "version": "3.12.7"
  }
 },
 "nbformat": 4,
 "nbformat_minor": 5
}
