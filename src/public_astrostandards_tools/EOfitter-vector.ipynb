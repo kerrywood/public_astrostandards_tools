{
 "cells": [
  {
   "cell_type": "code",
   "execution_count": 1,
   "id": "ee066639-9772-4dcc-be3d-39c9a9702c07",
   "metadata": {},
   "outputs": [],
   "source": [
    "from datetime import datetime, timedelta\n",
    "\n",
    "import numpy as np\n",
    "import pandas as pd\n",
    "import scipy.optimize"
   ]
  },
  {
   "cell_type": "code",
   "execution_count": 2,
   "id": "b70b69e7-5b9a-47f5-b8fb-2e80e5c13cd7",
   "metadata": {},
   "outputs": [],
   "source": [
    "import astro_time\n",
    "import sgp4\n",
    "import sensor\n",
    "\n",
    "import tle_fitter"
   ]
  },
  {
   "cell_type": "code",
   "execution_count": 3,
   "id": "0c3b187b-0b58-44cc-ac91-f3d60ed2dd60",
   "metadata": {},
   "outputs": [
    {
     "data": {
      "text/plain": [
       "0"
      ]
     },
     "execution_count": 3,
     "metadata": {},
     "output_type": "execute_result"
    }
   ],
   "source": [
    "import public_astrostandards as PA\n",
    "PA.init_all()\n",
    "# PA.get_versions()"
   ]
  },
  {
   "cell_type": "code",
   "execution_count": 4,
   "id": "97bfcc5f-df09-429a-a01a-a63165b53b53",
   "metadata": {},
   "outputs": [],
   "source": [
    "# grab some raw UDL obs; convert the time; sort\n",
    "def prepObs( o_df ):\n",
    "    o_df['obTime_dt'] = pd.to_datetime( o_df['obTime'] )\n",
    "    o_df.sort_values(by='obTime_dt', inplace=True )\n",
    "    t_df = astro_time.convert_times( obs['obTime_dt'], PA )\n",
    "    o_df = pd.concat( (t_df.reset_index(drop=True),o_df.reset_index(drop=True) ), axis=1 )\n",
    "    return o_df \n",
    "    \n",
    "obs    = pd.read_json('./19548.json.gz').sort_values(by='obTime').reset_index(drop=True)\n",
    "obs_df = prepObs( obs )    "
   ]
  },
  {
   "cell_type": "code",
   "execution_count": 5,
   "id": "889b994b-1b1a-4b06-b408-88bb916e925b",
   "metadata": {},
   "outputs": [],
   "source": [
    "def rotateTEMEObs( O , harness ):\n",
    "    '''\n",
    "    given an ob (O) with ra / declination fields (J2K), convert to TEME\n",
    "    '''\n",
    "    newRA  = (harness.ctypes.c_double)()\n",
    "    newDec = (harness.ctypes.c_double)()\n",
    "    PA.AstroFuncDll.RotRADec_EqnxToDate( 106,\n",
    "                                        2,\n",
    "                                        O['ds50_utc'],\n",
    "                                        O['ra'],\n",
    "                                        O['declination'],\n",
    "                                        newRA,\n",
    "                                        newDec )\n",
    "    return ( np.float64(newRA),np.float64(newDec) )\n",
    "\n",
    "# rotate a dataframe of obs into TEME and then also get a TEME look vector (for solving)\n",
    "def rotateTEMEdf( df, harness ):\n",
    "    tv = df.apply( lambda X : rotateTEMEObs( X, harness ) , axis=1 )\n",
    "    df['teme_ra']  = [ X[0] for X in tv ]\n",
    "    df['teme_dec'] = [ X[1] for X in tv ]\n",
    "    x = np.cos( np.radians(df['teme_dec']) ) * np.cos( np.radians( df['teme_ra'] ) )\n",
    "    y = np.cos( np.radians(df['teme_dec']) ) * np.sin( np.radians( df['teme_ra'] ) )\n",
    "    z = np.sin( np.radians(df['teme_dec'] ) )\n",
    "    lv = np.hstack( ( x.values[:,np.newaxis], y.values[:,np.newaxis], z.values[:,np.newaxis] )  )\n",
    "    df['teme_lv'] = lv.tolist()\n",
    "    return df\n",
    "\n",
    "obs_df = rotateTEMEdf( obs_df, PA )[['ra','teme_ra']]"
   ]
  },
  {
   "cell_type": "code",
   "execution_count": 6,
   "id": "12362b76-a6d7-4a1b-8fee-e44ab879395a",
   "metadata": {},
   "outputs": [],
   "source": [
    "L1 = '1 19548U 88091B   25281.05493527 -.00000297  00000+0  00000+0 0  9993'\n",
    "L2 = '2 19548  12.7961 342.6596 0038175 340.8908  24.1736  1.00278194122860'"
   ]
  },
  {
   "cell_type": "raw",
   "id": "ddab9eac-48ba-40e6-b668-6c0bd9fff234",
   "metadata": {},
   "source": [
    "# setup the sensor frame\n",
    "tle_dates_df = date_df.copy()\n",
    "eph = sgp4.propTLE_df( tle_dates_df, \n",
    "                L1,\n",
    "                L2,\n",
    "                PA)\n",
    "\n",
    "# now compute the looks\n",
    "test_looks = sensor.compute_looks( sensor_df, tle_dates_df, PA )"
   ]
  },
  {
   "cell_type": "code",
   "execution_count": 7,
   "id": "948ab23d-3435-4aae-ab9c-578203e24a97",
   "metadata": {},
   "outputs": [],
   "source": [
    "# -----------------------------------------------------------------------------------------------------\n",
    "def optFunction( X, EH, return_scalar=True ):\n",
    "    PA      = EH.PA\n",
    "    XS_TLE  = PA.Cstr('',512)\n",
    "    # take the function parameters (X) and overwrite the \"new_tle\" values based on FIELDS \n",
    "    for k,v in zip(EH.FIELDS,X) :  EH.new_tle[ k ] = v\n",
    "    # --------------------- clear state\n",
    "    PA.TleDll.TleRemoveAllSats()\n",
    "    PA.Sgp4PropDll.Sgp4RemoveAllSats()\n",
    "    # --------------------- init our test TLE from the modified data\n",
    "    tleid = PA.TleDll.TleAddSatFrArray( EH.new_tle.data, XS_TLE )\n",
    "    if tleid <= 0: return np.inf\n",
    "    if PA.Sgp4PropDll.Sgp4InitSat( tleid ) != 0: return np.inf\n",
    "    # --------------------- generate our test ephemeris\n",
    "    test_eph = sgp4.propTLEToDS50s( tleid, EH._ds50_utc, PA )\n",
    "    # these are our test look vectors\n",
    "    test_lv  = test_eph[:,1:4] - EH._sensor_eci\n",
    "    # normalize \n",
    "    test_lv  = test_lv / np.linalg.norm( test_lv, axis=1)[:,np.newaxis]\n",
    "    rv =  np.sum( np.abs( np.sum( test_lv * EH._look_vecs, axis=1 ) ) )\n",
    "    print('{:8.3f}                 '.format(rv), end='\\r')\n",
    "    return rv"
   ]
  },
  {
   "cell_type": "code",
   "execution_count": 8,
   "id": "bd46e02a-1b5c-491b-91e3-e03301a3ad5d",
   "metadata": {},
   "outputs": [
    {
     "name": "stdout",
     "output_type": "stream",
     "text": [
      "1 19548           25281.05493527 -.00000297  00000 0  00000 0 0 0999\n",
      "2 19548  12.7961 342.6596 0038175 340.8908  24.1736  1.0027819412286\n",
      "1 19548           25282.37703627 -.00000297  00000 0  00000 0 0 0999\n",
      "2 19548  12.7846 342.6148 0038111 341.2730 141.1035  1.0027767012286\n",
      " 817.399                 "
     ]
    },
    {
     "data": {
      "text/plain": [
       "np.float64(817.3993847485506)"
      ]
     },
     "execution_count": 8,
     "metadata": {},
     "output_type": "execute_result"
    }
   ],
   "source": [
    "# -----------------------------------------------------------------------------------------------------\n",
    "class eo_fitter( tle_fitter.tle_fitter ):\n",
    "    def __init__( self, PA ):\n",
    "        super().__init__( PA )\n",
    "        self.line1 = None\n",
    "        self.line2 = None\n",
    "\n",
    "    def _get_sv_at_epoch( self ):\n",
    "        ''' assume that epoch is set, and that line1, line2 are also set '''\n",
    "        self.PA.TleDll.TleRemoveAllSats()\n",
    "        tleid   = sgp4.addTLE( self.line1, self.line2, self.PA )\n",
    "        assert sgp4.initTLE( tleid, self.PA )\n",
    "        rv      = sgp4.propTLEToDS50s( tleid, [ self.epoch_ds50 ], self.PA )[0]\n",
    "        return  { 'teme_p' : rv[1:4], 'teme_v' : rv[4:7], 'ds50_utc' : self.epoch_ds50 }\n",
    "\n",
    "    def _init_obs( self ):\n",
    "        self.obs_df     = prepObs( obs )\n",
    "        self.obs_df     = rotateTEMEdf( self.obs_df, self.PA )\n",
    "        self._look_vecs = np.vstack( self.obs_df['teme_lv'] )\n",
    "        self._ds50_utc  = self.obs_df['ds50_utc'].values\n",
    "    \n",
    "    def _init_tle( self, epoch_idx=-1 ):\n",
    "        # init the TLE from the lines data\n",
    "        self.init_tle    = tle_fitter.TLE_str_to_XA_TLE( L1, L2, self.PA )\n",
    "        self.new_tle     = tle_fitter.TLE_str_to_XA_TLE( L1, L2, self.PA )\n",
    "        print( '\\n'.join(tle_fitter.XA_TLE_to_str( self.new_tle, self.PA ) ))\n",
    "        self.epoch_ds50  = self.obs_df.iloc[ epoch_idx ]['ds50_utc']\n",
    "        epoch_sv         = self._get_sv_at_epoch()\n",
    "        osc_data         = tle_fitter.sv_to_osc( epoch_sv , self.PA )\n",
    "        mean_data        = tle_fitter.osc_to_mean( osc_data, self.PA )\n",
    "        # update our \"fit\" TLE with the new osculating data\n",
    "        self.new_tle    = tle_fitter.insert_kep_to_TLE( self.new_tle, mean_data, self.PA )\n",
    "        self.new_tle['XA_TLE_EPOCH'] = epoch_sv['ds50_utc']\n",
    "        # if this is a type-0, we need Kozai mean motion   \n",
    "        if self.new_tle['XA_TLE_EPHTYPE'] == 0:\n",
    "            self.new_tle['XA_TLE_MNMOTN'] = self.PA.AstroFuncDll.BrouwerToKozai( \n",
    "                                                self.new_tle['XA_TLE_ECCEN'], \n",
    "                                                self.new_tle['XA_TLE_INCLI'],\n",
    "                                                self.new_tle['XA_TLE_MNMOTN'] )\n",
    "\n",
    "        print( '\\n'.join(tle_fitter.XA_TLE_to_str( self.new_tle, self.PA ) ))\n",
    "        return self\n",
    "\n",
    "    def _init_sensor( self ):\n",
    "        self.sensor_df        = self.obs_df[['ds50_utc','senlat','senlon','senalt']].rename( columns = {'senlat' : 'lat','senlon' : 'lon', 'senalt' : 'height' } )\n",
    "        self.sensor_df        = sensor.llh_to_eci( self.sensor_df, self.PA )\n",
    "        self._sensor_eci      = np.vstack( self.sensor_df['teme_p'].values )\n",
    "    \n",
    "    def _init_fields( self ):\n",
    "        # DO NOT change the order.. they build\n",
    "        self._init_obs()\n",
    "        self._init_sensor()\n",
    "        self._init_tle()\n",
    "\n",
    "    def set_data( self, L1 : str, L2 : str, obs : list[ dict ] ):\n",
    "        ''' \n",
    "        take an initial TLE as a guess (L1,L2) \n",
    "        take a list of JSON formatted obs (directly from UDL)\n",
    "        solve for a new TLE\n",
    "        '''\n",
    "        self.line1      = L1\n",
    "        self.line2      = L2\n",
    "        self.obs        = obs\n",
    "        self._init_fields()\n",
    "        return self\n",
    "\n",
    "    def initial_simplex( self, delta=0.2):\n",
    "        '''\n",
    "        take our initial fields and perturb each entry delta% in either direction (up and down\n",
    "        this should give us a good search space\n",
    "        '''\n",
    "        X     = self.get_init_fields()\n",
    "        smplx = np.ones( shape=( len(X), len(X) ) )\n",
    "        smplx += np.diag( np.ones( len(X)-1 ), -1 ) * -delta\n",
    "        smplx += np.diag( np.ones( len(X)-1 ), 1 ) * delta\n",
    "        smplx = np.vstack( (np.ones(len(X)), smplx ) )\n",
    "        smplx *= X\n",
    "        return smplx\n",
    "                                            \n",
    "\n",
    "obs    = pd.read_json('./19548.json.gz').sort_values(by='obTime').reset_index(drop=True)    \n",
    "A = eo_fitter( PA ).set_data( L1, L2, obs )\n",
    "\n",
    "optFunction( A.get_init_fields(), A )\n",
    "\n",
    "\n",
    "# # -----------------------------  nelder mead -----------------------------\n",
    "# # if your seed is not near the final, nelder works great (at the expense of time)\n",
    "# ans   = scipy.optimize.minimize(optFunction, \n",
    "#                                 A.get_init_fields(),\n",
    "#                                 args    = (A,True),\n",
    "#                                 method  = 'Nelder-Mead' ,\n",
    "#                                 #options = {'xatol' : 0.01, 'fatol' : 0.9 } )\n",
    "#                                 options = {'xatol' : 0.01, 'fatol' : 0.1, 'initial_simplex' : A.initial_simplex() } )\n",
    "#                                #options = {'initial_simplex' : smplx } )\n"
   ]
  },
  {
   "cell_type": "code",
   "execution_count": 9,
   "id": "a5493a80-a54c-4d9f-8d6f-18cbe5011030",
   "metadata": {},
   "outputs": [
    {
     "ename": "NameError",
     "evalue": "name 'ans' is not defined",
     "output_type": "error",
     "traceback": [
      "\u001b[31m---------------------------------------------------------------------------\u001b[39m",
      "\u001b[31mNameError\u001b[39m                                 Traceback (most recent call last)",
      "\u001b[36mCell\u001b[39m\u001b[36m \u001b[39m\u001b[32mIn[9]\u001b[39m\u001b[32m, line 1\u001b[39m\n\u001b[32m----> \u001b[39m\u001b[32m1\u001b[39m \u001b[43mans\u001b[49m\n",
      "\u001b[31mNameError\u001b[39m: name 'ans' is not defined"
     ]
    }
   ],
   "source": [
    "ans"
   ]
  },
  {
   "cell_type": "code",
   "execution_count": null,
   "id": "88621218-3c83-411d-aff6-b5ee9b0e222e",
   "metadata": {},
   "outputs": [],
   "source": [
    "A.get_init_fields()"
   ]
  },
  {
   "cell_type": "code",
   "execution_count": null,
   "id": "c0eff39a-9510-437c-8243-30d08e48b10f",
   "metadata": {},
   "outputs": [],
   "source": []
  }
 ],
 "metadata": {
  "kernelspec": {
   "display_name": "Python 3 (ipykernel)",
   "language": "python",
   "name": "python3"
  },
  "language_info": {
   "codemirror_mode": {
    "name": "ipython",
    "version": 3
   },
   "file_extension": ".py",
   "mimetype": "text/x-python",
   "name": "python",
   "nbconvert_exporter": "python",
   "pygments_lexer": "ipython3",
   "version": "3.11.1"
  }
 },
 "nbformat": 4,
 "nbformat_minor": 5
}
